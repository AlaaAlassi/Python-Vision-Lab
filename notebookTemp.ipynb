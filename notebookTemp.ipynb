{
 "cells": [
  {
   "cell_type": "code",
   "execution_count": 1,
   "metadata": {},
   "outputs": [
    {
     "ename": "SyntaxError",
     "evalue": "invalid syntax (<ipython-input-1-6d5f995b0922>, line 59)",
     "output_type": "error",
     "traceback": [
      "\u001b[0;36m  File \u001b[0;32m\"<ipython-input-1-6d5f995b0922>\"\u001b[0;36m, line \u001b[0;32m59\u001b[0m\n\u001b[0;31m    cv2.imshow('Video', img)\u001b[0m\n\u001b[0m      ^\u001b[0m\n\u001b[0;31mSyntaxError\u001b[0m\u001b[0;31m:\u001b[0m invalid syntax\n"
     ]
    }
   ],
   "source": [
    "#!/usr/bin/python3\n",
    "# The contents of this file are in the public domain. See LICENSE_FOR_EXAMPLE_PROGRAMS.txt\n",
    "#\n",
    "# This example program shows how you can use dlib to make a HOG based object\n",
    "# detector for things like faces, pedestrians, and any other semi-rigid\n",
    "# object.  In particular, we go though the steps to train the kind of sliding\n",
    "# window object detector first published by Dalal and Triggs in 2005 in the\n",
    "# paper Histograms of Oriented Gradients for Human Detection.\n",
    "#\n",
    "#\n",
    "# COMPILING/INSTALLING THE DLIB PYTHON INTERFACE\n",
    "#   You can install dlib using the command:\n",
    "#       pip install dlib\n",
    "#\n",
    "#   Alternatively, if you want to compile dlib yourself then go into the dlib\n",
    "#   root folder and run:\n",
    "#       python setup.py install\n",
    "#\n",
    "#   Compiling dlib should work on any operating system so long as you have\n",
    "#   CMake installed.  On Ubuntu, this can be done easily by running the\n",
    "#   command:\n",
    "#       sudo apt-get install cmake\n",
    "#\n",
    "#   Also note that this example requires Numpy which can be installed\n",
    "#   via the command:\n",
    "#       pip install numpy\n",
    "\n",
    "import os\n",
    "import sys\n",
    "import glob\n",
    "import cv2\n",
    "import dlib\n",
    "\n",
    "\n",
    "\n",
    "# Now let's use the detector as you would in a normal application.  First we\n",
    "# will load it from disk.\n",
    "detector = dlib.simple_object_detector(\"detector.svm\")\n",
    "\n",
    "# We can look at the HOG filter we learned.  It should look like a face.  Neat!\n",
    "win_det = dlib.image_window()\n",
    "win_det.set_image(detector)\n",
    "\n",
    "# Now let's run the detector over the images in the faces folder and display the\n",
    "# results.\n",
    "\n",
    "print(\"starting wbcam\")\n",
    "cap = cv2.VideoCapture(0)\n",
    "while(True):\n",
    "    ret, img = cap.read()\n",
    "    dets = detector(img)\n",
    "    print(\"Number of faces detected: {}\".format(len(dets)))\n",
    "   \n",
    "    # Display the resulting image\n",
    "    \n",
    "    for d in enumerate(dets):\n",
    "\t    cv2.rectangle(img, (d.left, d.top, (d.right, d.bottom, (0, 0, 255), 4)\n",
    "\n",
    "    cv2.imshow('Video', img)\n",
    "\n",
    "    if cv2.waitKey(1) & 0xFF == ord('q'):\n",
    "        break\n",
    "\n",
    "\n",
    "\n",
    "\n",
    "\n",
    "\n",
    "\n",
    "\n"
   ]
  },
  {
   "cell_type": "code",
   "execution_count": null,
   "metadata": {},
   "outputs": [],
   "source": []
  },
  {
   "cell_type": "code",
   "execution_count": null,
   "metadata": {},
   "outputs": [],
   "source": []
  }
 ],
 "metadata": {
  "kernelspec": {
   "display_name": "Python 3",
   "language": "python",
   "name": "python3"
  },
  "language_info": {
   "codemirror_mode": {
    "name": "ipython",
    "version": 3
   },
   "file_extension": ".py",
   "mimetype": "text/x-python",
   "name": "python",
   "nbconvert_exporter": "python",
   "pygments_lexer": "ipython3",
   "version": "3.6.7"
  }
 },
 "nbformat": 4,
 "nbformat_minor": 2
}
