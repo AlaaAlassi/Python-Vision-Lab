{
 "cells": [
  {
   "cell_type": "code",
   "execution_count": 1,
   "metadata": {},
   "outputs": [],
   "source": [
    "import numpy as np\n",
    "import dlib\n",
    "import cv2\n",
    "from matplotlib import pyplot as plt"
   ]
  },
  {
   "cell_type": "code",
   "execution_count": 2,
   "metadata": {},
   "outputs": [],
   "source": [
    "\n",
    "\n",
    "\n",
    "def main(args=None):\n",
    "   \n",
    "\n",
    "    \n",
    "    cap = cv2.VideoCapture(0)\n",
    "    while(True):\n",
    "        \n",
    "        \n",
    "        # Capture frame-by-frame\n",
    "        ret, frame = cap.read()\n",
    "\n",
    "\n",
    "        #print(type(frame))\n",
    "        #img = cv2.imread('ship1.jpg')\n",
    "        #img = cv2.imread('ship2.jpg') #failed : military ship\n",
    "        #img = cv2.imread('ship3.jpg')\n",
    "        #img = cv2.imread('ship4.jpg')\n",
    "        #img = cv2.imread('ship5.jpeg')\n",
    "\n",
    "\n",
    "        img2=dlib.min_barrier_distance(frame,25,True) \n",
    "        #cv2.imshow('cat',img2)\n",
    "        #cv2.waitKey(0)\n",
    "        #plt.hist(img2.ravel(),256,[0,256]); plt.show()\n",
    "\n",
    "\n",
    "        ret,thresh1 = cv2.threshold(img2,50,255,cv2.THRESH_BINARY)\n",
    "\n",
    "        cv2.imshow('cat',thresh1)\n",
    "        if cv2.waitKey(1) & 0xFF == ord('q'):\n",
    "            break\n",
    "        \n",
    "    # When everything done, release the capture\n",
    "    cap.release()\n",
    "    cv2.destroyAllWindows()\n",
    "    \n",
    "if __name__ == '__main__':\n",
    "    main()\n",
    "\n",
    "\n",
    "\n",
    "\n",
    "\n"
   ]
  },
  {
   "cell_type": "code",
   "execution_count": null,
   "metadata": {},
   "outputs": [],
   "source": [
    "\n"
   ]
  },
  {
   "cell_type": "code",
   "execution_count": null,
   "metadata": {},
   "outputs": [],
   "source": []
  }
 ],
 "metadata": {
  "kernelspec": {
   "display_name": "Python 3",
   "language": "python",
   "name": "python3"
  },
  "language_info": {
   "codemirror_mode": {
    "name": "ipython",
    "version": 3
   },
   "file_extension": ".py",
   "mimetype": "text/x-python",
   "name": "python",
   "nbconvert_exporter": "python",
   "pygments_lexer": "ipython3",
   "version": "3.6.7"
  }
 },
 "nbformat": 4,
 "nbformat_minor": 2
}
